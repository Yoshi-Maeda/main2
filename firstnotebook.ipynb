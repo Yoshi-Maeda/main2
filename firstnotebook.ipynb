{
  "nbformat": 4,
  "nbformat_minor": 0,
  "metadata": {
    "colab": {
      "provenance": [],
      "authorship_tag": "ABX9TyOh2w87uMmkkMfJmNTEOE1/",
      "include_colab_link": true
    },
    "kernelspec": {
      "name": "python3",
      "display_name": "Python 3"
    },
    "language_info": {
      "name": "python"
    }
  },
  "cells": [
    {
      "cell_type": "markdown",
      "metadata": {
        "id": "view-in-github",
        "colab_type": "text"
      },
      "source": [
        "<a href=\"https://colab.research.google.com/github/Yoshi-Maeda/main2/blob/main/firstnotebook.ipynb\" target=\"_parent\"><img src=\"https://colab.research.google.com/assets/colab-badge.svg\" alt=\"Open In Colab\"/></a>"
      ]
    },
    {
      "cell_type": "code",
      "source": [
        "print(\"Hello,World!\")\n",
        "print(\"Hello,Python!\")"
      ],
      "metadata": {
        "colab": {
          "base_uri": "https://localhost:8080/"
        },
        "id": "HtS0RJc25c2v",
        "outputId": "96a287d1-3339-452e-fcf2-4ef153167b4a"
      },
      "execution_count": null,
      "outputs": [
        {
          "output_type": "stream",
          "name": "stdout",
          "text": [
            "Hello,World!\n",
            "Hello,Python!\n"
          ]
        }
      ]
    },
    {
      "cell_type": "markdown",
      "source": [
        "Pythonの実行ではなくて、**日本語**を*解説文書*として記載したいときに使います。\n",
        "\n",
        "# 見出し1\n",
        "\n",
        "Markdown記法で見やすく文章を書くことができます。\n",
        "\n",
        "## 見出し2\n",
        "\n",
        "**強調**\n",
        "\n",
        "数式を書くこともできます。\n",
        "\n",
        "$$\n",
        "y=2x+1\n",
        "$$\n",
        "\n",
        "Pythonコードを書く時はコードブロックを使います。\n",
        "\n",
        "```python\n",
        "print(\"Hello, World!\")\n",
        "```\n",
        "\n",
        "- 箇条書き\n",
        "- 箇条書き\n",
        "  - 箇条書き\n",
        "\n",
        "> 引用文"
      ],
      "metadata": {
        "id": "wDi9hhvu7IJa"
      }
    },
    {
      "cell_type": "code",
      "source": [
        "print(54 + 21 - 105)"
      ],
      "metadata": {
        "colab": {
          "base_uri": "https://localhost:8080/"
        },
        "id": "qnefiCEm8CfD",
        "outputId": "30547a9c-4eac-46d2-9d42-970954c0ba74"
      },
      "execution_count": null,
      "outputs": [
        {
          "output_type": "stream",
          "name": "stdout",
          "text": [
            "-30\n"
          ]
        }
      ]
    },
    {
      "cell_type": "code",
      "source": [
        "print(-30 - 40)"
      ],
      "metadata": {
        "colab": {
          "base_uri": "https://localhost:8080/"
        },
        "id": "y16FlbVO8HGO",
        "outputId": "344611eb-92dc-41c3-aeda-95f1f4d4fb33"
      },
      "execution_count": null,
      "outputs": [
        {
          "output_type": "stream",
          "name": "stdout",
          "text": [
            "-70\n"
          ]
        }
      ]
    },
    {
      "cell_type": "code",
      "source": [
        "print(50/3)"
      ],
      "metadata": {
        "colab": {
          "base_uri": "https://localhost:8080/"
        },
        "id": "3YO8DXH48NA2",
        "outputId": "fb80714a-d182-403f-eef8-a4b7808aa555"
      },
      "execution_count": null,
      "outputs": [
        {
          "output_type": "stream",
          "name": "stdout",
          "text": [
            "16.666666666666668\n"
          ]
        }
      ]
    },
    {
      "cell_type": "code",
      "source": [
        "print(1 + 2)"
      ],
      "metadata": {
        "colab": {
          "base_uri": "https://localhost:8080/"
        },
        "id": "nVeTzJwo5iba",
        "outputId": "0553fd21-b84d-4fae-90bf-1951021b3bd3"
      },
      "execution_count": null,
      "outputs": [
        {
          "output_type": "stream",
          "name": "stdout",
          "text": [
            "3\n"
          ]
        }
      ]
    },
    {
      "cell_type": "code",
      "source": [
        "print(250 + 100 + 400)"
      ],
      "metadata": {
        "colab": {
          "base_uri": "https://localhost:8080/"
        },
        "id": "CGkKROPb7683",
        "outputId": "d07ca15f-37c8-4465-b4ca-663462f10b0a"
      },
      "execution_count": null,
      "outputs": [
        {
          "output_type": "stream",
          "name": "stdout",
          "text": [
            "750\n"
          ]
        }
      ]
    },
    {
      "cell_type": "code",
      "source": [
        "print(15 - 3)"
      ],
      "metadata": {
        "colab": {
          "base_uri": "https://localhost:8080/"
        },
        "id": "A08CMEP28AEY",
        "outputId": "b46b20db-0b28-4b2d-a2d4-c37cdb8266d8"
      },
      "execution_count": null,
      "outputs": [
        {
          "output_type": "stream",
          "name": "stdout",
          "text": [
            "12\n"
          ]
        }
      ]
    },
    {
      "cell_type": "code",
      "source": [
        "print(50//3)"
      ],
      "metadata": {
        "colab": {
          "base_uri": "https://localhost:8080/"
        },
        "id": "O5ycr6s28UOg",
        "outputId": "94a8de57-ec0f-401b-a438-00f72ee70ca3"
      },
      "execution_count": null,
      "outputs": [
        {
          "output_type": "stream",
          "name": "stdout",
          "text": [
            "16\n"
          ]
        }
      ]
    },
    {
      "cell_type": "code",
      "source": [
        "print(50%3)"
      ],
      "metadata": {
        "colab": {
          "base_uri": "https://localhost:8080/"
        },
        "id": "90idgiLD8YCb",
        "outputId": "dea1ac9c-fb1d-4aaf-9dad-9bcb462869ca"
      },
      "execution_count": null,
      "outputs": [
        {
          "output_type": "stream",
          "name": "stdout",
          "text": [
            "2\n"
          ]
        }
      ]
    },
    {
      "cell_type": "code",
      "source": [
        "print(2/0)"
      ],
      "metadata": {
        "colab": {
          "base_uri": "https://localhost:8080/",
          "height": 141
        },
        "id": "2bxB3Ues8cCg",
        "outputId": "66d5f012-bc10-4eed-80dc-a311db187fd6"
      },
      "execution_count": null,
      "outputs": [
        {
          "output_type": "error",
          "ename": "ZeroDivisionError",
          "evalue": "division by zero",
          "traceback": [
            "\u001b[0;31m---------------------------------------------------------------------------\u001b[0m",
            "\u001b[0;31mZeroDivisionError\u001b[0m                         Traceback (most recent call last)",
            "\u001b[0;32m<ipython-input-8-d2c0889640ff>\u001b[0m in \u001b[0;36m<cell line: 1>\u001b[0;34m()\u001b[0m\n\u001b[0;32m----> 1\u001b[0;31m \u001b[0mprint\u001b[0m\u001b[0;34m(\u001b[0m\u001b[0;36m2\u001b[0m\u001b[0;34m/\u001b[0m\u001b[0;36m0\u001b[0m\u001b[0;34m)\u001b[0m\u001b[0;34m\u001b[0m\u001b[0;34m\u001b[0m\u001b[0m\n\u001b[0m",
            "\u001b[0;31mZeroDivisionError\u001b[0m: division by zero"
          ]
        }
      ]
    },
    {
      "cell_type": "code",
      "source": [
        "print(2**3)"
      ],
      "metadata": {
        "id": "WiwE5cbS8nG1"
      },
      "execution_count": null,
      "outputs": []
    },
    {
      "cell_type": "code",
      "source": [
        "print(2**0.5)"
      ],
      "metadata": {
        "id": "3nrZVAck8rjR"
      },
      "execution_count": null,
      "outputs": []
    },
    {
      "cell_type": "code",
      "source": [
        "print(type(50))\n",
        "print(type(4))\n",
        "print(type(50/4))"
      ],
      "metadata": {
        "id": "gPfn1BaT8sKX"
      },
      "execution_count": null,
      "outputs": []
    }
  ]
}